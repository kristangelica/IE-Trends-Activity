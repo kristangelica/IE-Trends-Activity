{
  "nbformat": 4,
  "nbformat_minor": 0,
  "metadata": {
    "colab": {
      "name": "IE Trends_02a_Python_Basics.ipynb",
      "provenance": [],
      "authorship_tag": "ABX9TyPuxWeaI1IJDTAwpbz2EjTE",
      "include_colab_link": true
    },
    "kernelspec": {
      "name": "python3",
      "display_name": "Python 3"
    },
    "language_info": {
      "name": "python"
    }
  },
  "cells": [
    {
      "cell_type": "markdown",
      "metadata": {
        "id": "view-in-github",
        "colab_type": "text"
      },
      "source": [
        "<a href=\"https://colab.research.google.com/github/kristangelica/IE-Trends-Activity/blob/main/IE_Trends_02a_Python_Basics.ipynb\" target=\"_parent\"><img src=\"https://colab.research.google.com/assets/colab-badge.svg\" alt=\"Open In Colab\"/></a>"
      ]
    },
    {
      "cell_type": "markdown",
      "metadata": {
        "id": "T4UnJfFC8Izx"
      },
      "source": [
        "### Python Basics"
      ]
    },
    {
      "cell_type": "markdown",
      "metadata": {
        "id": "uki23paCvOPT"
      },
      "source": [
        "This section reviews programming fundamentals using Python."
      ]
    },
    {
      "cell_type": "code",
      "metadata": {
        "id": "OvFAgUxSxf5w"
      },
      "source": [
        "All the programming Fundamentals"
      ],
      "execution_count": null,
      "outputs": []
    },
    {
      "cell_type": "code",
      "metadata": {
        "colab": {
          "base_uri": "https://localhost:8080/"
        },
        "id": "TTWX2jsEx747",
        "outputId": "d6f94e4e-0b23-4541-e479-1150edf242c0"
      },
      "source": [
        "x = 1\n",
        "y = 3.14\n",
        "\n",
        "print (x)\n",
        "print (y)\n"
      ],
      "execution_count": 2,
      "outputs": [
        {
          "output_type": "stream",
          "text": [
            "1\n",
            "3.14\n"
          ],
          "name": "stdout"
        }
      ]
    },
    {
      "cell_type": "code",
      "metadata": {
        "id": "ca-1a5k-ztch"
      },
      "source": [
        "## Addition (also a comment line)\n",
        "z1=x+y\n",
        "## Subtract\n",
        "z2=x-y\n",
        "## Multiplication\n",
        "z3=x*y\n",
        "## Division\n",
        "z4=x/y"
      ],
      "execution_count": 4,
      "outputs": []
    },
    {
      "cell_type": "markdown",
      "metadata": {
        "id": "-pdV_uhP0e_F"
      },
      "source": [
        "### Coding $2^5$ "
      ]
    },
    {
      "cell_type": "code",
      "metadata": {
        "colab": {
          "base_uri": "https://localhost:8080/"
        },
        "id": "aIZ44V7F0U0J",
        "outputId": "9c406aca-3f7b-4751-c925-0205a0fc5396"
      },
      "source": [
        "## Expontiation\n",
        "z5 = 2**5\n",
        "## Floor Division\n",
        "z6 = round (19/2)\n",
        "print (z6)\n",
        "## Trigonometric\n",
        "import math\n",
        "math.sin(y) + math.cos(x)"
      ],
      "execution_count": 13,
      "outputs": [
        {
          "output_type": "stream",
          "text": [
            "10\n"
          ],
          "name": "stdout"
        },
        {
          "output_type": "execute_result",
          "data": {
            "text/plain": [
              "0.5418949587846266"
            ]
          },
          "metadata": {
            "tags": []
          },
          "execution_count": 13
        }
      ]
    },
    {
      "cell_type": "markdown",
      "metadata": {
        "id": "3NMTlw_D16IH"
      },
      "source": [
        "sin(y) + cos(x)\n"
      ]
    },
    {
      "cell_type": "markdown",
      "metadata": {
        "id": "je9hu7VS2yab"
      },
      "source": [
        "### Loop\n"
      ]
    },
    {
      "cell_type": "markdown",
      "metadata": {
        "id": "aL-xCK703zQI"
      },
      "source": [
        "$\\sum{sin(i)+\\cos(i+\\pi)}$\n",
        "\n",
        "\n",
        "\n",
        "\n"
      ]
    },
    {
      "cell_type": "markdown",
      "metadata": {
        "id": "c-I2--eC46z1"
      },
      "source": [
        ""
      ]
    },
    {
      "cell_type": "code",
      "metadata": {
        "colab": {
          "base_uri": "https://localhost:8080/"
        },
        "id": "6uZxVaa12x-K",
        "outputId": "3347d829-2974-45f4-de27-f84eabcba709"
      },
      "source": [
        "## Summation\n",
        "tz=0\n",
        "for i in range (0,10):\n",
        "  tz += math.sin(i) + math.cos(i+math.pi)\n",
        "  print (tz)\n",
        "tz += 1\n",
        "# print (tz)\n"
      ],
      "execution_count": 29,
      "outputs": [
        {
          "output_type": "stream",
          "text": [
            "-1.0\n",
            "-0.6988313210602433\n",
            "0.6266129423125808\n",
            "1.7577254469728933\n",
            "1.6545665725285772\n",
            "0.41198011240221266\n",
            "-0.827605672447079\n",
            "-0.9245213280715947\n",
            "0.2103369523604004\n",
            "1.533585699486834\n"
          ],
          "name": "stdout"
        }
      ]
    },
    {
      "cell_type": "markdown",
      "metadata": {
        "id": "S7iZ6eS459gd"
      },
      "source": [
        "### Functions"
      ]
    },
    {
      "cell_type": "markdown",
      "metadata": {
        "id": "ZjbhbyWc6Jv-"
      },
      "source": [
        "$S - $i^2$"
      ]
    },
    {
      "cell_type": "code",
      "metadata": {
        "colab": {
          "base_uri": "https://localhost:8080/"
        },
        "id": "AWWC4zv66DFp",
        "outputId": "9e31dab8-5934-4ad2-8e77-2f5aaddf559e"
      },
      "source": [
        "s=0\n",
        "for i in range (0,10):\n",
        "  s+=i\n",
        "  h=s-i**2\n",
        "  print(equation1(s,i))"
      ],
      "execution_count": 32,
      "outputs": [
        {
          "output_type": "stream",
          "text": [
            "0\n",
            "0\n",
            "-1\n",
            "-3\n",
            "-6\n",
            "-10\n",
            "-15\n",
            "-21\n",
            "-28\n",
            "-36\n"
          ],
          "name": "stdout"
        }
      ]
    },
    {
      "cell_type": "code",
      "metadata": {
        "id": "0sNt5Tfq6tH2"
      },
      "source": [
        "def equation1(s,i):\n",
        "  return s-i**2\n",
        "  "
      ],
      "execution_count": 31,
      "outputs": []
    }
  ]
}